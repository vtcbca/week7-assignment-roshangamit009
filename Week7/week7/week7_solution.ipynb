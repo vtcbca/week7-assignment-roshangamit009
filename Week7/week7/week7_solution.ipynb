{
 "cells": [
  {
   "cell_type": "markdown",
   "id": "0d14b59f",
   "metadata": {},
   "source": [
    "# Create CSV file for product selling for 6 Months ( Prod_No | Prod_Name | Jan | Feb | Mar | Apr | May | Jun) for 5 products.¶"
   ]
  },
  {
   "cell_type": "code",
   "execution_count": 1,
   "id": "d9f8b94a",
   "metadata": {},
   "outputs": [],
   "source": [
    "from csv import*\n",
    "header = ['PNo','PName','jan','Feb','Mar','Apr','May','Jun']\n",
    "with open('pro_l.csv','w',newline=\"\") as FWrite:\n",
    "       a= writer(FWrite)\n",
    "       a.writerow(header)"
   ]
  },
  {
   "cell_type": "markdown",
   "id": "cb127a20",
   "metadata": {},
   "source": [
    "# 1. Add 12 Records. Take input from user.\n"
   ]
  },
  {
   "cell_type": "code",
   "execution_count": 2,
   "id": "131835e8",
   "metadata": {},
   "outputs": [
    {
     "name": "stdout",
     "output_type": "stream",
     "text": [
      "Enter  Number: 1\n",
      "Enter Name: monitor\n",
      "Enter January Sale: 5600\n",
      "Enter February Sale: 6700\n",
      "Enter March Sale: 4500\n",
      "Enter April Sale: 3400\n",
      "Enter May Sale: 2300\n",
      "Enter June Sale: 8000\n",
      "Enter  Number: 2\n",
      "Enter Name: mouse\n",
      "Enter January Sale: 4000\n",
      "Enter February Sale: 5000\n",
      "Enter March Sale: 4600\n",
      "Enter April Sale: 4500\n",
      "Enter May Sale: 3400\n",
      "Enter June Sale: 5600\n",
      "Enter  Number: 3\n",
      "Enter Name: keybord\n",
      "Enter January Sale: 6000\n",
      "Enter February Sale: 9000\n",
      "Enter March Sale: 4500\n",
      "Enter April Sale: 5800\n",
      "Enter May Sale: 3400\n",
      "Enter June Sale: 4500\n",
      "Enter  Number: 4\n",
      "Enter Name: printer\n",
      "Enter January Sale: 7000\n",
      "Enter February Sale: 3000\n",
      "Enter March Sale: 5900\n",
      "Enter April Sale: 5760\n",
      "Enter May Sale: 3400\n",
      "Enter June Sale: 5800\n",
      "Enter  Number: 5\n",
      "Enter Name: ssd128\n",
      "Enter January Sale: 6700\n",
      "Enter February Sale: 300\n",
      "Enter March Sale: 8000\n",
      "Enter April Sale: 8900\n",
      "Enter May Sale: 5600\n",
      "Enter June Sale: 6700\n",
      "Enter  Number: 6\n",
      "Enter Name: ssd256\n",
      "Enter January Sale: 7000\n",
      "Enter February Sale: 3000\n",
      "Enter March Sale: 4500\n",
      "Enter April Sale: 6700\n",
      "Enter May Sale: 6900\n",
      "Enter June Sale: 9800\n",
      "Enter  Number: 7\n",
      "Enter Name: headphone\n",
      "Enter January Sale: 7800\n",
      "Enter February Sale: 4500\n",
      "Enter March Sale: 2700\n",
      "Enter April Sale: 5600\n",
      "Enter May Sale: 4900\n",
      "Enter June Sale: 6500\n",
      "Enter  Number: 8\n",
      "Enter Name: bluthooth mouse\n",
      "Enter January Sale: 7000\n",
      "Enter February Sale: 5800\n",
      "Enter March Sale: 5800\n",
      "Enter April Sale: 3700\n",
      "Enter May Sale: 6800\n",
      "Enter June Sale: 6900\n",
      "Enter  Number: 9\n",
      "Enter Name: ram chip\n",
      "Enter January Sale: 1000\n",
      "Enter February Sale: 1000\n",
      "Enter March Sale: 1200\n",
      "Enter April Sale: 4500\n",
      "Enter May Sale: 1200\n",
      "Enter June Sale: 4500\n",
      "Enter  Number: 10\n",
      "Enter Name: rom chip\n",
      "Enter January Sale: 6789\n",
      "Enter February Sale: 4000\n",
      "Enter March Sale: 2800\n",
      "Enter April Sale: 3400\n",
      "Enter May Sale: 4000\n",
      "Enter June Sale: 3500\n",
      "Enter  Number: 11\n",
      "Enter Name: laptop\n",
      "Enter January Sale: 2000\n",
      "Enter February Sale: 3400\n",
      "Enter March Sale: 5700\n",
      "Enter April Sale: 7900\n",
      "Enter May Sale: 1200\n",
      "Enter June Sale: 4800\n",
      "Enter  Number: 12\n",
      "Enter Name: charger\n",
      "Enter January Sale: 6800\n",
      "Enter February Sale: 3400\n",
      "Enter March Sale: 6900\n",
      "Enter April Sale: 3400\n",
      "Enter May Sale: 4500\n",
      "Enter June Sale: 4500\n"
     ]
    }
   ],
   "source": [
    "from csv import *\n",
    "l=[]\n",
    "with open('pro_l.csv','a',newline=\"\") as f:\n",
    "    fdata = writer(f)\n",
    "    for i in range(12):\n",
    "        prod_no = input(\"Enter  Number: \")\n",
    "        prod_name = input(\"Enter Name: \")\n",
    "        jan = int(input(\"Enter January Sale: \"))\n",
    "        feb = int(input(\"Enter February Sale: \"))\n",
    "        mar = int(input(\"Enter March Sale: \"))\n",
    "        apr = int(input(\"Enter April Sale: \"))\n",
    "        may = int(input(\"Enter May Sale: \"))\n",
    "        jun = int(input(\"Enter June Sale: \"))\n",
    "        pdata=[prod_no, prod_name,jan, feb,mar,apr,may,jun]\n",
    "        l.append(pdata)\n",
    "    fdata.writerows(l)"
   ]
  },
  {
   "cell_type": "markdown",
   "id": "d4086b31",
   "metadata": {},
   "source": [
    "# 2. Create lframe."
   ]
  },
  {
   "cell_type": "code",
   "execution_count": 21,
   "id": "2287a990",
   "metadata": {},
   "outputs": [
    {
     "name": "stdout",
     "output_type": "stream",
     "text": [
      "    PNo            PName   jan   Feb   Mar   Apr   May   Jun\n",
      "0     1          monitor  5600  6700  4500  3400  2300  8000\n",
      "1     2            mouse  4000  5000  4600  4500  3400  5600\n",
      "2     3          keybord  6000  9000  4500  5800  3400  4500\n",
      "3     4          printer  7000  3000  5900  5760  3400  5800\n",
      "4     5           ssd128  6700   300  8000  8900  5600  6700\n",
      "5     6           ssd256  7000  3000  4500  6700  6900  9800\n",
      "6     7        headphone  7800  4500  2700  5600  4900  6500\n",
      "7     8  bluthooth mouse  7000  5800  5800  3700  6800  6900\n",
      "8     9         ram chip  1000  1000  1200  4500  1200  4500\n",
      "9    10         rom chip  6789  4000  2800  3400  4000  3500\n",
      "10   11           laptop  2000  3400  5700  7900  1200  4800\n",
      "11   12          charger  6800  3400  6900  3400  4500  4500\n"
     ]
    }
   ],
   "source": [
    "from pandas import *\n",
    "ab = read_csv('pro_l.csv')\n",
    "print(ab)"
   ]
  },
  {
   "cell_type": "markdown",
   "id": "00a253f8",
   "metadata": {},
   "source": [
    "# 3. Change Column Name Product No, Product Name, January, February, March, April, May, June."
   ]
  },
  {
   "cell_type": "code",
   "execution_count": 37,
   "id": "d5f8059f",
   "metadata": {},
   "outputs": [
    {
     "name": "stdout",
     "output_type": "stream",
     "text": [
      "    Product_No     Product_Name  January  February  March  April   May  June\n",
      "0            1          monitor     5600      6700   4500   3400  2300  8000\n",
      "1            2            mouse     4000      5000   4600   4500  3400  5600\n",
      "2            3          keybord     6000      9000   4500   5800  3400  4500\n",
      "3            4          printer     7000      3000   5900   5760  3400  5800\n",
      "4            5           ssd128     6700       300   8000   8900  5600  6700\n",
      "5            6           ssd256     7000      3000   4500   6700  6900  9800\n",
      "6            7        headphone     7800      4500   2700   5600  4900  6500\n",
      "7            8  bluthooth mouse     7000      5800   5800   3700  6800  6900\n",
      "8            9         ram chip     1000      1000   1200   4500  1200  4500\n",
      "9           10         rom chip     6789      4000   2800   3400  4000  3500\n",
      "10          11           laptop     2000      3400   5700   7900  1200  4800\n",
      "11          12          charger     6800      3400   6900   3400  4500  4500\n",
      "12          23              dvd     6767      7600   6055   7900  7800  8700\n",
      "13          24       motherbord     3356      4300   7850   6700  8706  7857\n"
     ]
    }
   ],
   "source": [
    "Column=['Product_No', 'Product_Name', 'January', 'February', 'March', 'April', 'May', 'June']\n",
    "ab = DataFrame(a.values.tolist(),columns=Column)\n",
    "print(ab)"
   ]
  },
  {
   "cell_type": "markdown",
   "id": "8c338d2b",
   "metadata": {},
   "source": [
    "# 4. Add column \"Total Sell\" to count total of all month and \"Average Sell\""
   ]
  },
  {
   "cell_type": "code",
   "execution_count": 38,
   "id": "14e33f5c",
   "metadata": {},
   "outputs": [
    {
     "name": "stdout",
     "output_type": "stream",
     "text": [
      "    Product_No     Product_Name  January  February  March  April   May  June  \\\n",
      "0            1          monitor     5600      6700   4500   3400  2300  8000   \n",
      "1            2            mouse     4000      5000   4600   4500  3400  5600   \n",
      "2            3          keybord     6000      9000   4500   5800  3400  4500   \n",
      "3            4          printer     7000      3000   5900   5760  3400  5800   \n",
      "4            5           ssd128     6700       300   8000   8900  5600  6700   \n",
      "5            6           ssd256     7000      3000   4500   6700  6900  9800   \n",
      "6            7        headphone     7800      4500   2700   5600  4900  6500   \n",
      "7            8  bluthooth mouse     7000      5800   5800   3700  6800  6900   \n",
      "8            9         ram chip     1000      1000   1200   4500  1200  4500   \n",
      "9           10         rom chip     6789      4000   2800   3400  4000  3500   \n",
      "10          11           laptop     2000      3400   5700   7900  1200  4800   \n",
      "11          12          charger     6800      3400   6900   3400  4500  4500   \n",
      "\n",
      "    Total  Average  \n",
      "0   30500     5083  \n",
      "1   27100     4516  \n",
      "2   33200     5533  \n",
      "3   30860     5143  \n",
      "4   36200     6033  \n",
      "5   37900     6316  \n",
      "6   32000     5333  \n",
      "7   36000     6000  \n",
      "8   13400     2233  \n",
      "9   24489     4081  \n",
      "10  25000     4166  \n",
      "11  29500     4916  \n"
     ]
    }
   ],
   "source": [
    "Column=['Product_No', 'Product_Name', 'January', 'February', 'March', 'April', 'May', 'June']\n",
    "data = c.values.tolist()\n",
    "total=[sum(i[2::]) for i in data]\n",
    "average=[int(sum(i[2::])/6) for i in data]\n",
    "df = DataFrame(data,columns=Column)\n",
    "df['Total']=total\n",
    "df['Average']=average\n",
    "print(df)"
   ]
  },
  {
   "cell_type": "markdown",
   "id": "0e6764a4",
   "metadata": {},
   "source": [
    "# 5. Add 2 row at the end."
   ]
  },
  {
   "cell_type": "code",
   "execution_count": 39,
   "id": "44c8a99b",
   "metadata": {},
   "outputs": [
    {
     "name": "stdout",
     "output_type": "stream",
     "text": [
      "    PNo            PName   jan   Feb   Mar   Apr   May   Jun\n",
      "0     1          monitor  5600  6700  4500  3400  2300  8000\n",
      "1     2            mouse  4000  5000  4600  4500  3400  5600\n",
      "2     3          keybord  6000  9000  4500  5800  3400  4500\n",
      "3     4          printer  7000  3000  5900  5760  3400  5800\n",
      "4     5           ssd128  6700   300  8000  8900  5600  6700\n",
      "5     6           ssd256  7000  3000  4500  6700  6900  9800\n",
      "6     7        headphone  7800  4500  2700  5600  4900  6500\n",
      "7     8  bluthooth mouse  7000  5800  5800  3700  6800  6900\n",
      "8     9         ram chip  1000  1000  1200  4500  1200  4500\n",
      "9    10         rom chip  6789  4000  2800  3400  4000  3500\n",
      "10   11           laptop  2000  3400  5700  7900  1200  4800\n",
      "11   12          charger  6800  3400  6900  3400  4500  4500\n",
      "13   23              dvd  6767  7600  6055  7900  7800  8700\n",
      "15   23              dvd  6767  7600  6055  7900  7800  8700\n",
      "16   24       motherbord  3356  4300  7850  6700  8706  7857\n"
     ]
    }
   ],
   "source": [
    "Column=['Product No', 'Product Name', 'January', 'February', 'March', 'April', 'May', 'June']\n",
    "a.loc[len(a)+1]=[23,'dvd',6767,7600,6055,7900,7800,8700]\n",
    "a.loc[len(a)+2]=[24,'motherbord',3356,4300,7850,6700,8706,7857]\n",
    "print(a)"
   ]
  },
  {
   "cell_type": "markdown",
   "id": "f99294ca",
   "metadata": {},
   "source": [
    "# 6. Add 2 row after 3rd row."
   ]
  },
  {
   "cell_type": "code",
   "execution_count": 25,
   "id": "0084a91c",
   "metadata": {},
   "outputs": [
    {
     "name": "stdout",
     "output_type": "stream",
     "text": [
      "    PNo            PName   jan   Feb   Mar   Apr   May   Jun\n",
      "0     1          monitor  5600  6700  4500  3400  2300  8000\n",
      "1     2            mouse  4000  5000  4600  4500  3400  5600\n",
      "2     3          keybord  6000  9000  4500  5800  3400  4500\n",
      "3    56          Hardisk    70    76    76    78    87    67\n",
      "4    33              usb    40    48    60    45    56    21\n",
      "5     4          printer  7000  3000  5900  5760  3400  5800\n",
      "6     5           ssd128  6700   300  8000  8900  5600  6700\n",
      "7     6           ssd256  7000  3000  4500  6700  6900  9800\n",
      "8     7        headphone  7800  4500  2700  5600  4900  6500\n",
      "9     8  bluthooth mouse  7000  5800  5800  3700  6800  6900\n",
      "10    9         ram chip  1000  1000  1200  4500  1200  4500\n",
      "11   10         rom chip  6789  4000  2800  3400  4000  3500\n",
      "12   11           laptop  2000  3400  5700  7900  1200  4800\n",
      "13   12          charger  6800  3400  6900  3400  4500  4500\n"
     ]
    }
   ],
   "source": [
    "Column=['Product No', 'Product Name', 'January', 'February', 'March', 'April', 'May', 'June']\n",
    "ab = read_csv('pro_l.csv')\n",
    "ab.loc[2.5] = [56, 'Hardisk',70,76,76,78,87,67]\n",
    "ab = ab.sort_index().reset_index(drop=True)\n",
    "ab.loc[3.5] = [33, 'usb',40,48,60,45,56,21]\n",
    "ab = ab.sort_index().reset_index(drop=True)\n",
    "print(ab)"
   ]
  },
  {
   "cell_type": "markdown",
   "id": "311c90f8",
   "metadata": {},
   "source": [
    "# 7. Print first 5 row."
   ]
  },
  {
   "cell_type": "code",
   "execution_count": 40,
   "id": "01db926a",
   "metadata": {},
   "outputs": [
    {
     "name": "stdout",
     "output_type": "stream",
     "text": [
      "   Product_No Product_Name  January  February  March  April   May  June\n",
      "0           1      monitor     5600      6700   4500   3400  2300  8000\n",
      "1           2        mouse     4000      5000   4600   4500  3400  5600\n",
      "2           3      keybord     6000      9000   4500   5800  3400  4500\n",
      "3           4      printer     7000      3000   5900   5760  3400  5800\n",
      "4           5       ssd128     6700       300   8000   8900  5600  6700\n"
     ]
    }
   ],
   "source": [
    "column=['Product_No', 'Product_Name', 'January', 'February', 'March', 'April', 'May', 'June']\n",
    "print(ab.head())"
   ]
  },
  {
   "cell_type": "markdown",
   "id": "0c6f912d",
   "metadata": {},
   "source": [
    "# 8. Print Last 5 row."
   ]
  },
  {
   "cell_type": "code",
   "execution_count": 41,
   "id": "1b5ce7a0",
   "metadata": {},
   "outputs": [
    {
     "name": "stdout",
     "output_type": "stream",
     "text": [
      "    Product_No Product_Name  January  February  March  April   May  June\n",
      "9           10     rom chip     6789      4000   2800   3400  4000  3500\n",
      "10          11       laptop     2000      3400   5700   7900  1200  4800\n",
      "11          12      charger     6800      3400   6900   3400  4500  4500\n",
      "12          23          dvd     6767      7600   6055   7900  7800  8700\n",
      "13          24   motherbord     3356      4300   7850   6700  8706  7857\n"
     ]
    }
   ],
   "source": [
    "Column=['Product_No', 'Product_Name', 'January', 'February', 'March', 'April', 'May', 'June']\n",
    "print(ab.tail())"
   ]
  },
  {
   "cell_type": "markdown",
   "id": "166079a3",
   "metadata": {},
   "source": [
    "# 9. Print row 6 to 10."
   ]
  },
  {
   "cell_type": "code",
   "execution_count": 42,
   "id": "4f86f41f",
   "metadata": {},
   "outputs": [
    {
     "name": "stdout",
     "output_type": "stream",
     "text": [
      "    Product_No     Product_Name  January  February  March  April   May  June\n",
      "6            7        headphone     7800      4500   2700   5600  4900  6500\n",
      "7            8  bluthooth mouse     7000      5800   5800   3700  6800  6900\n",
      "8            9         ram chip     1000      1000   1200   4500  1200  4500\n",
      "9           10         rom chip     6789      4000   2800   3400  4000  3500\n",
      "10          11           laptop     2000      3400   5700   7900  1200  4800\n"
     ]
    }
   ],
   "source": [
    "Column=['Product_No', 'Product_Name', 'January', 'February', 'March', 'April', 'May', 'June']\n",
    "print(ab.loc[6:10])"
   ]
  },
  {
   "cell_type": "markdown",
   "id": "463a37b5",
   "metadata": {},
   "source": [
    "# 10. Print only product name."
   ]
  },
  {
   "cell_type": "code",
   "execution_count": 44,
   "id": "3f2192ec",
   "metadata": {},
   "outputs": [
    {
     "name": "stdout",
     "output_type": "stream",
     "text": [
      "0             monitor\n",
      "1               mouse\n",
      "2             keybord\n",
      "3             printer\n",
      "4              ssd128\n",
      "5              ssd256\n",
      "6           headphone\n",
      "7     bluthooth mouse\n",
      "8            ram chip\n",
      "9            rom chip\n",
      "10             laptop\n",
      "11            charger\n",
      "Name: PName, dtype: object\n"
     ]
    }
   ],
   "source": [
    "ab = read_csv('pro_l.csv')\n",
    "print(ab.PName)"
   ]
  },
  {
   "cell_type": "markdown",
   "id": "b34d4910",
   "metadata": {},
   "source": [
    "# 11. Print sell of January month with product id and product name."
   ]
  },
  {
   "cell_type": "code",
   "execution_count": 45,
   "id": "c3468a4f",
   "metadata": {},
   "outputs": [
    {
     "name": "stdout",
     "output_type": "stream",
     "text": [
      "    PNo            PName   jan\n",
      "0     1          monitor  5600\n",
      "1     2            mouse  4000\n",
      "2     3          keybord  6000\n",
      "3     4          printer  7000\n",
      "4     5           ssd128  6700\n",
      "5     6           ssd256  7000\n",
      "6     7        headphone  7800\n",
      "7     8  bluthooth mouse  7000\n",
      "8     9         ram chip  1000\n",
      "9    10         rom chip  6789\n",
      "10   11           laptop  2000\n",
      "11   12          charger  6800\n"
     ]
    }
   ],
   "source": [
    "print(ab[['PNo','PName','jan']])"
   ]
  },
  {
   "cell_type": "markdown",
   "id": "775638b2",
   "metadata": {},
   "source": [
    "# 12. Print only those product id , product name where january sell is > 5000 and February sell is >8000"
   ]
  },
  {
   "cell_type": "code",
   "execution_count": 48,
   "id": "a637490a",
   "metadata": {},
   "outputs": [
    {
     "name": "stdout",
     "output_type": "stream",
     "text": [
      "   PNo    PName\n",
      "2    3  keybord\n"
     ]
    }
   ],
   "source": [
    "df = read_csv('pro_l.csv')\n",
    "print(df[(df[\"jan\"] > 5000) & (df[\"Feb\"] > 8000)][[\"PNo\", \"PName\"]])"
   ]
  },
  {
   "cell_type": "markdown",
   "id": "6279224e",
   "metadata": {},
   "source": [
    "# 13. Print record in sorting order of Product name."
   ]
  },
  {
   "cell_type": "code",
   "execution_count": 49,
   "id": "bb20f295",
   "metadata": {},
   "outputs": [
    {
     "name": "stdout",
     "output_type": "stream",
     "text": [
      "    PNo            PName   jan   Feb   Mar   Apr   May   Jun\n",
      "7     8  bluthooth mouse  7000  5800  5800  3700  6800  6900\n",
      "11   12          charger  6800  3400  6900  3400  4500  4500\n",
      "6     7        headphone  7800  4500  2700  5600  4900  6500\n",
      "2     3          keybord  6000  9000  4500  5800  3400  4500\n",
      "10   11           laptop  2000  3400  5700  7900  1200  4800\n",
      "0     1          monitor  5600  6700  4500  3400  2300  8000\n",
      "1     2            mouse  4000  5000  4600  4500  3400  5600\n",
      "3     4          printer  7000  3000  5900  5760  3400  5800\n",
      "8     9         ram chip  1000  1000  1200  4500  1200  4500\n",
      "9    10         rom chip  6789  4000  2800  3400  4000  3500\n",
      "4     5           ssd128  6700   300  8000  8900  5600  6700\n",
      "5     6           ssd256  7000  3000  4500  6700  6900  9800\n"
     ]
    }
   ],
   "source": [
    "print(df.sort_values(by=\"PName\"))"
   ]
  },
  {
   "cell_type": "markdown",
   "id": "a8600370",
   "metadata": {},
   "source": [
    "# 14. Display only odd index number column record."
   ]
  },
  {
   "cell_type": "code",
   "execution_count": 50,
   "id": "edd17a72",
   "metadata": {},
   "outputs": [
    {
     "name": "stdout",
     "output_type": "stream",
     "text": [
      "    PNo            PName   jan   Feb   Mar   Apr   May   Jun\n",
      "1     2            mouse  4000  5000  4600  4500  3400  5600\n",
      "3     4          printer  7000  3000  5900  5760  3400  5800\n",
      "5     6           ssd256  7000  3000  4500  6700  6900  9800\n",
      "7     8  bluthooth mouse  7000  5800  5800  3700  6800  6900\n",
      "9    10         rom chip  6789  4000  2800  3400  4000  3500\n",
      "11   12          charger  6800  3400  6900  3400  4500  4500\n"
     ]
    }
   ],
   "source": [
    "print(df.iloc[1::2])"
   ]
  },
  {
   "cell_type": "markdown",
   "id": "123278f2",
   "metadata": {},
   "source": [
    "# 15. Display alternate row."
   ]
  },
  {
   "cell_type": "code",
   "execution_count": 51,
   "id": "f76b8b58",
   "metadata": {},
   "outputs": [
    {
     "name": "stdout",
     "output_type": "stream",
     "text": [
      "    PNo      PName   jan   Feb   Mar   Apr   May   Jun\n",
      "0     1    monitor  5600  6700  4500  3400  2300  8000\n",
      "2     3    keybord  6000  9000  4500  5800  3400  4500\n",
      "4     5     ssd128  6700   300  8000  8900  5600  6700\n",
      "6     7  headphone  7800  4500  2700  5600  4900  6500\n",
      "8     9   ram chip  1000  1000  1200  4500  1200  4500\n",
      "10   11     laptop  2000  3400  5700  7900  1200  4800\n"
     ]
    }
   ],
   "source": [
    "print(df.iloc[::2])"
   ]
  },
  {
   "cell_type": "code",
   "execution_count": 52,
   "id": "0730fb76",
   "metadata": {},
   "outputs": [
    {
     "data": {
      "text/html": [
       "<div>\n",
       "<style scoped>\n",
       "    .dataframe tbody tr th:only-of-type {\n",
       "        vertical-align: middle;\n",
       "    }\n",
       "\n",
       "    .dataframe tbody tr th {\n",
       "        vertical-align: top;\n",
       "    }\n",
       "\n",
       "    .dataframe thead th {\n",
       "        text-align: right;\n",
       "    }\n",
       "</style>\n",
       "<table border=\"1\" class=\"dataframe\">\n",
       "  <thead>\n",
       "    <tr style=\"text-align: right;\">\n",
       "      <th></th>\n",
       "      <th>PNo</th>\n",
       "      <th>PName</th>\n",
       "      <th>jan</th>\n",
       "      <th>Feb</th>\n",
       "      <th>Mar</th>\n",
       "      <th>Apr</th>\n",
       "      <th>May</th>\n",
       "      <th>Jun</th>\n",
       "    </tr>\n",
       "  </thead>\n",
       "  <tbody>\n",
       "    <tr>\n",
       "      <th>0</th>\n",
       "      <td>1</td>\n",
       "      <td>monitor</td>\n",
       "      <td>5600</td>\n",
       "      <td>6700</td>\n",
       "      <td>4500</td>\n",
       "      <td>3400</td>\n",
       "      <td>2300</td>\n",
       "      <td>8000</td>\n",
       "    </tr>\n",
       "    <tr>\n",
       "      <th>1</th>\n",
       "      <td>2</td>\n",
       "      <td>mouse</td>\n",
       "      <td>4000</td>\n",
       "      <td>5000</td>\n",
       "      <td>4600</td>\n",
       "      <td>4500</td>\n",
       "      <td>3400</td>\n",
       "      <td>5600</td>\n",
       "    </tr>\n",
       "    <tr>\n",
       "      <th>2</th>\n",
       "      <td>3</td>\n",
       "      <td>keybord</td>\n",
       "      <td>6000</td>\n",
       "      <td>9000</td>\n",
       "      <td>4500</td>\n",
       "      <td>5800</td>\n",
       "      <td>3400</td>\n",
       "      <td>4500</td>\n",
       "    </tr>\n",
       "    <tr>\n",
       "      <th>3</th>\n",
       "      <td>4</td>\n",
       "      <td>printer</td>\n",
       "      <td>7000</td>\n",
       "      <td>3000</td>\n",
       "      <td>5900</td>\n",
       "      <td>5760</td>\n",
       "      <td>3400</td>\n",
       "      <td>5800</td>\n",
       "    </tr>\n",
       "    <tr>\n",
       "      <th>4</th>\n",
       "      <td>5</td>\n",
       "      <td>ssd128</td>\n",
       "      <td>6700</td>\n",
       "      <td>300</td>\n",
       "      <td>8000</td>\n",
       "      <td>8900</td>\n",
       "      <td>5600</td>\n",
       "      <td>6700</td>\n",
       "    </tr>\n",
       "    <tr>\n",
       "      <th>5</th>\n",
       "      <td>6</td>\n",
       "      <td>ssd256</td>\n",
       "      <td>7000</td>\n",
       "      <td>3000</td>\n",
       "      <td>4500</td>\n",
       "      <td>6700</td>\n",
       "      <td>6900</td>\n",
       "      <td>9800</td>\n",
       "    </tr>\n",
       "    <tr>\n",
       "      <th>6</th>\n",
       "      <td>7</td>\n",
       "      <td>headphone</td>\n",
       "      <td>7800</td>\n",
       "      <td>4500</td>\n",
       "      <td>2700</td>\n",
       "      <td>5600</td>\n",
       "      <td>4900</td>\n",
       "      <td>6500</td>\n",
       "    </tr>\n",
       "    <tr>\n",
       "      <th>7</th>\n",
       "      <td>8</td>\n",
       "      <td>bluthooth mouse</td>\n",
       "      <td>7000</td>\n",
       "      <td>5800</td>\n",
       "      <td>5800</td>\n",
       "      <td>3700</td>\n",
       "      <td>6800</td>\n",
       "      <td>6900</td>\n",
       "    </tr>\n",
       "    <tr>\n",
       "      <th>8</th>\n",
       "      <td>9</td>\n",
       "      <td>ram chip</td>\n",
       "      <td>1000</td>\n",
       "      <td>1000</td>\n",
       "      <td>1200</td>\n",
       "      <td>4500</td>\n",
       "      <td>1200</td>\n",
       "      <td>4500</td>\n",
       "    </tr>\n",
       "    <tr>\n",
       "      <th>9</th>\n",
       "      <td>10</td>\n",
       "      <td>rom chip</td>\n",
       "      <td>6789</td>\n",
       "      <td>4000</td>\n",
       "      <td>2800</td>\n",
       "      <td>3400</td>\n",
       "      <td>4000</td>\n",
       "      <td>3500</td>\n",
       "    </tr>\n",
       "    <tr>\n",
       "      <th>10</th>\n",
       "      <td>11</td>\n",
       "      <td>laptop</td>\n",
       "      <td>2000</td>\n",
       "      <td>3400</td>\n",
       "      <td>5700</td>\n",
       "      <td>7900</td>\n",
       "      <td>1200</td>\n",
       "      <td>4800</td>\n",
       "    </tr>\n",
       "    <tr>\n",
       "      <th>11</th>\n",
       "      <td>12</td>\n",
       "      <td>charger</td>\n",
       "      <td>6800</td>\n",
       "      <td>3400</td>\n",
       "      <td>6900</td>\n",
       "      <td>3400</td>\n",
       "      <td>4500</td>\n",
       "      <td>4500</td>\n",
       "    </tr>\n",
       "  </tbody>\n",
       "</table>\n",
       "</div>"
      ],
      "text/plain": [
       "    PNo            PName   jan   Feb   Mar   Apr   May   Jun\n",
       "0     1          monitor  5600  6700  4500  3400  2300  8000\n",
       "1     2            mouse  4000  5000  4600  4500  3400  5600\n",
       "2     3          keybord  6000  9000  4500  5800  3400  4500\n",
       "3     4          printer  7000  3000  5900  5760  3400  5800\n",
       "4     5           ssd128  6700   300  8000  8900  5600  6700\n",
       "5     6           ssd256  7000  3000  4500  6700  6900  9800\n",
       "6     7        headphone  7800  4500  2700  5600  4900  6500\n",
       "7     8  bluthooth mouse  7000  5800  5800  3700  6800  6900\n",
       "8     9         ram chip  1000  1000  1200  4500  1200  4500\n",
       "9    10         rom chip  6789  4000  2800  3400  4000  3500\n",
       "10   11           laptop  2000  3400  5700  7900  1200  4800\n",
       "11   12          charger  6800  3400  6900  3400  4500  4500"
      ]
     },
     "execution_count": 52,
     "metadata": {},
     "output_type": "execute_result"
    }
   ],
   "source": [
    "df"
   ]
  },
  {
   "cell_type": "code",
   "execution_count": null,
   "id": "99aaff22",
   "metadata": {},
   "outputs": [],
   "source": []
  }
 ],
 "metadata": {
  "kernelspec": {
   "display_name": "Python 3 (ipykernel)",
   "language": "python",
   "name": "python3"
  },
  "language_info": {
   "codemirror_mode": {
    "name": "ipython",
    "version": 3
   },
   "file_extension": ".py",
   "mimetype": "text/x-python",
   "name": "python",
   "nbconvert_exporter": "python",
   "pygments_lexer": "ipython3",
   "version": "3.11.4"
  }
 },
 "nbformat": 4,
 "nbformat_minor": 5
}
